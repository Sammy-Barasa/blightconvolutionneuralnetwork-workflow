{
 "cells": [
  {
   "cell_type": "markdown",
   "metadata": {},
   "source": [
    "# Tomatoe Bight Projecct"
   ]
  },
  {
   "cell_type": "markdown",
   "metadata": {},
   "source": [
    "## Imports"
   ]
  },
  {
   "cell_type": "code",
   "execution_count": 2,
   "metadata": {},
   "outputs": [
    {
     "name": "stdout",
     "output_type": "stream",
     "text": [
      "Tensorflow version 2.8.0\n",
      "Numpy version 1.22.3\n",
      "Matplolib version 2.8.0\n"
     ]
    }
   ],
   "source": [
    "import tensorflow as tf \n",
    "import numpy as np \n",
    "import matplotlib as plt\n",
    "\n",
    "\n",
    "print(\"Tensorflow version\",tf.__version__)\n",
    "print(\"Numpy version\",np.__version__)\n",
    "print(\"Matplolib version\",tf.__version__)\n",
    "\n",
    "from tensorflow.keras.preprocessing.image import ImageDataGenerator"
   ]
  },
  {
   "cell_type": "markdown",
   "metadata": {},
   "source": [
    "## Obtain data"
   ]
  },
  {
   "cell_type": "markdown",
   "metadata": {},
   "source": [
    "## Load images, Image Augmentation"
   ]
  },
  {
   "cell_type": "markdown",
   "metadata": {},
   "source": [
    "### ImageDataGenerator Object"
   ]
  },
  {
   "cell_type": "code",
   "execution_count": 56,
   "metadata": {},
   "outputs": [],
   "source": [
    "# ImageDataGenerator Object\n",
    "\n",
    "DataGenerator = ImageDataGenerator(\n",
    " rescale=1./255,\n",
    " rotation_range=40, # Rotating each image randomly up to 40 degrees left or right\n",
    " width_shift_range=0.2, # Translating the image up to 20%  horizontally\n",
    " height_shift_range=0.2, #  Translating the image up to 20% vertically \n",
    " shear_range=0.2, # Shearing the image by up to 20%\n",
    " zoom_range=0.2, # Shearing the image by up to 20%\n",
    " horizontal_flip=True, # \n",
    " fill_mode='nearest' # Filling in any missing pixels after a move or shear with nearest neighbors\n",
    ")"
   ]
  },
  {
   "cell_type": "markdown",
   "metadata": {},
   "source": [
    "### training"
   ]
  },
  {
   "cell_type": "code",
   "execution_count": 57,
   "metadata": {},
   "outputs": [],
   "source": [
    "training_dir = \"data/training\"\n",
    "validation_dir = \"data/validation\"\n",
    "test_dir = \"data/test\"\n",
    "\n",
    "train_gen = DataGenerator\n",
    "\n",
    "\n",
    "# train_generator = train_gen.flow_from_directory(\n",
    "#     training_dir,\n",
    "#     target_size=(300,300),\n",
    "#     class_mode = 'sparse'\n",
    "# )\n",
    "\n"
   ]
  },
  {
   "cell_type": "markdown",
   "metadata": {},
   "source": [
    "### validation"
   ]
  },
  {
   "cell_type": "code",
   "execution_count": 58,
   "metadata": {},
   "outputs": [],
   "source": [
    "validation_gen = DataGenerator\n",
    "\n",
    "\n",
    "# validation_generator = train_gen.flow_from_directory(\n",
    "#     validation_dir,\n",
    "#     target_size=(300,300),\n",
    "#     class_mode = 'sparse'\n",
    "# )"
   ]
  },
  {
   "cell_type": "markdown",
   "metadata": {},
   "source": [
    "### test"
   ]
  },
  {
   "cell_type": "code",
   "execution_count": 59,
   "metadata": {},
   "outputs": [],
   "source": [
    "test_gen = DataGenerator\n",
    "\n",
    "\n",
    "# validation_generator = train_gen.flow_from_directory(\n",
    "#     validation_dir,\n",
    "#     target_size=(300,300),\n",
    "#     class_mode = 'sparse'\n",
    "# )"
   ]
  },
  {
   "cell_type": "markdown",
   "metadata": {},
   "source": [
    "## Convolution Neural Network Model"
   ]
  },
  {
   "cell_type": "code",
   "execution_count": 60,
   "metadata": {},
   "outputs": [
    {
     "name": "stdout",
     "output_type": "stream",
     "text": [
      "Model: \"sequential_17\"\n",
      "_________________________________________________________________\n",
      " Layer (type)                Output Shape              Param #   \n",
      "=================================================================\n",
      " conv2d_88 (Conv2D)          (None, 298, 298, 32)      896       \n",
      "                                                                 \n",
      " max_pooling2d_88 (MaxPoolin  (None, 149, 149, 32)     0         \n",
      " g2D)                                                            \n",
      "                                                                 \n",
      " conv2d_89 (Conv2D)          (None, 147, 147, 64)      18496     \n",
      "                                                                 \n",
      " max_pooling2d_89 (MaxPoolin  (None, 73, 73, 64)       0         \n",
      " g2D)                                                            \n",
      "                                                                 \n",
      " conv2d_90 (Conv2D)          (None, 71, 71, 128)       73856     \n",
      "                                                                 \n",
      " max_pooling2d_90 (MaxPoolin  (None, 35, 35, 128)      0         \n",
      " g2D)                                                            \n",
      "                                                                 \n",
      " conv2d_91 (Conv2D)          (None, 33, 33, 128)       147584    \n",
      "                                                                 \n",
      " max_pooling2d_91 (MaxPoolin  (None, 16, 16, 128)      0         \n",
      " g2D)                                                            \n",
      "                                                                 \n",
      " conv2d_92 (Conv2D)          (None, 14, 14, 128)       147584    \n",
      "                                                                 \n",
      " max_pooling2d_92 (MaxPoolin  (None, 7, 7, 128)        0         \n",
      " g2D)                                                            \n",
      "                                                                 \n",
      " flatten_17 (Flatten)        (None, 6272)              0         \n",
      "                                                                 \n",
      " dense_34 (Dense)            (None, 1024)              6423552   \n",
      "                                                                 \n",
      " dense_35 (Dense)            (None, 3)                 3075      \n",
      "                                                                 \n",
      "=================================================================\n",
      "Total params: 6,815,043\n",
      "Trainable params: 6,815,043\n",
      "Non-trainable params: 0\n",
      "_________________________________________________________________\n"
     ]
    }
   ],
   "source": [
    "model = tf.keras.Sequential([\n",
    "    tf.keras.layers.Conv2D(32, (3,3), activation = \"relu\", input_shape =(300,300,3)),\n",
    "    tf.keras.layers.MaxPooling2D(2,2),\n",
    "    tf.keras.layers.Conv2D(64, (3,3), activation = \"relu\"),\n",
    "    tf.keras.layers.MaxPooling2D(2,2),\n",
    "    tf.keras.layers.Conv2D(128, (3,3), activation = \"relu\"),\n",
    "    tf.keras.layers.MaxPooling2D(2,2),\n",
    "    tf.keras.layers.Conv2D(128, (3,3), activation = \"relu\"),\n",
    "    tf.keras.layers.MaxPooling2D(2,2),\n",
    "    tf.keras.layers.Conv2D(128, (3,3), activation = \"relu\"),\n",
    "    tf.keras.layers.MaxPooling2D(2,2),\n",
    "    tf.keras.layers.Flatten(),\n",
    "    tf.keras.layers.Dense(1024,activation=\"relu\"),\n",
    "    tf.keras.layers.Dense(3, activation=\"softmax\")\n",
    "])\n",
    "model.summary()\n",
    "#model.build()"
   ]
  },
  {
   "cell_type": "code",
   "execution_count": null,
   "metadata": {},
   "outputs": [],
   "source": []
  },
  {
   "cell_type": "markdown",
   "metadata": {},
   "source": [
    "## Model compiling"
   ]
  },
  {
   "cell_type": "code",
   "execution_count": 61,
   "metadata": {},
   "outputs": [],
   "source": [
    "model.compile(\n",
    "    optimizer='adam',\n",
    "    loss = 'sparse_category_crossentropy',\n",
    "    metrics=['accuracy']\n",
    ")\n"
   ]
  },
  {
   "cell_type": "markdown",
   "metadata": {},
   "source": [
    "## Model training and validation"
   ]
  },
  {
   "cell_type": "code",
   "execution_count": 62,
   "metadata": {},
   "outputs": [],
   "source": [
    "# train_history=model.fit_generator(\n",
    "#     train_gen,\n",
    "#     epochs=50,\n",
    "#     validation_data=validation_gen\n",
    "# )"
   ]
  },
  {
   "cell_type": "markdown",
   "metadata": {},
   "source": [
    "## History train plots"
   ]
  },
  {
   "cell_type": "code",
   "execution_count": null,
   "metadata": {},
   "outputs": [],
   "source": []
  },
  {
   "cell_type": "markdown",
   "metadata": {},
   "source": [
    "## Model evaluation"
   ]
  },
  {
   "cell_type": "code",
   "execution_count": 63,
   "metadata": {},
   "outputs": [],
   "source": [
    "# model.evaluate_generator(test_gen)"
   ]
  },
  {
   "cell_type": "markdown",
   "metadata": {},
   "source": [
    "## File upload for prediction"
   ]
  },
  {
   "cell_type": "code",
   "execution_count": 1,
   "metadata": {},
   "outputs": [
    {
     "name": "stdout",
     "output_type": "stream",
     "text": [
      "FileUpload(value={}, accept='.jpg', description='Upload', multiple=True)\n"
     ]
    },
    {
     "data": {
      "application/vnd.jupyter.widget-view+json": {
       "model_id": "3f0d41202448402b904a1261325ac6da",
       "version_major": 2,
       "version_minor": 0
      },
      "text/plain": [
       "FileUpload(value={}, accept='.jpg', description='Upload', multiple=True)"
      ]
     },
     "metadata": {},
     "output_type": "display_data"
    }
   ],
   "source": [
    "from ipywidgets import FileUpload\n",
    "from IPython.display import display\n",
    "upload = FileUpload(accept='.jpg', multiple=True)\n",
    "print(upload)\n",
    "display(upload)"
   ]
  }
 ],
 "metadata": {
  "kernelspec": {
   "display_name": "Python 3.10.2 64-bit (system)",
   "language": "python",
   "name": "python3"
  },
  "language_info": {
   "codemirror_mode": {
    "name": "ipython",
    "version": 3
   },
   "file_extension": ".py",
   "mimetype": "text/x-python",
   "name": "python",
   "nbconvert_exporter": "python",
   "pygments_lexer": "ipython3",
   "version": "3.10.2"
  },
  "orig_nbformat": 4,
  "vscode": {
   "interpreter": {
    "hash": "66500df6f2b047bcd59bb53c26eb5161f2db2f0d4baa2e27b40d05c05bfa5008"
   }
  }
 },
 "nbformat": 4,
 "nbformat_minor": 2
}
